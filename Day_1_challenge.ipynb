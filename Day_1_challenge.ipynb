{
  "nbformat": 4,
  "nbformat_minor": 0,
  "metadata": {
    "colab": {
      "provenance": []
    },
    "kernelspec": {
      "name": "python3",
      "display_name": "Python 3"
    },
    "language_info": {
      "name": "python"
    }
  },
  "cells": [
    {
      "cell_type": "markdown",
      "source": [
        "Load Extension first"
      ],
      "metadata": {
        "id": "rWLDS783OFR_"
      }
    },
    {
      "cell_type": "code",
      "source": [
        "%load_ext sql"
      ],
      "metadata": {
        "id": "SxMDZHazNvrD"
      },
      "execution_count": 2,
      "outputs": []
    },
    {
      "cell_type": "markdown",
      "source": [
        "Create a database"
      ],
      "metadata": {
        "id": "Rb9WrjkoOJ28"
      }
    },
    {
      "cell_type": "code",
      "source": [
        "%sql sqlite:///abc_data.db"
      ],
      "metadata": {
        "id": "iZGn_heBN6Zz"
      },
      "execution_count": 3,
      "outputs": []
    },
    {
      "cell_type": "code",
      "source": [
        "%%sql CREATE TABLE students (\n",
        "            customer_id integer PRIMARY KEY,\n",
        "            customer_first_name varchar(100),\n",
        "            customer_last_name varchar(100),\n",
        "            customer_email varchar(100)\n",
        "         );\n"
      ],
      "metadata": {
        "colab": {
          "base_uri": "https://localhost:8080/"
        },
        "id": "yhApSwdKOs6z",
        "outputId": "66777efc-d3cf-4664-b6f5-37554cd27f5e"
      },
      "execution_count": 6,
      "outputs": [
        {
          "output_type": "stream",
          "name": "stdout",
          "text": [
            " * sqlite:///abc_data.db\n",
            "Done.\n"
          ]
        },
        {
          "output_type": "execute_result",
          "data": {
            "text/plain": [
              "[]"
            ]
          },
          "metadata": {},
          "execution_count": 6
        }
      ]
    }
  ]
}